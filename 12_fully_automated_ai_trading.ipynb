{
 "cells": [
  {
   "cell_type": "code",
   "execution_count": 10,
   "id": "3e0589a2",
   "metadata": {
    "id": "3e0589a2"
   },
   "outputs": [],
   "source": [
    "import numpy as np\n",
    "import pandas as pd\n",
    "import matplotlib.pyplot as plt\n",
    "import yfinance as yf\n",
    "import warnings\n",
    "warnings.filterwarnings(\"ignore\")\n",
    "\n",
    "google = yf.Ticker(\"GOOG\")"
   ]
  },
  {
   "cell_type": "code",
   "execution_count": 11,
   "id": "278a0e01",
   "metadata": {
    "id": "278a0e01",
    "outputId": "193d72ba-1310-41ac-8c75-e7a90738d132"
   },
   "outputs": [
    {
     "data": {
      "text/html": [
       "<div>\n",
       "<style scoped>\n",
       "    .dataframe tbody tr th:only-of-type {\n",
       "        vertical-align: middle;\n",
       "    }\n",
       "\n",
       "    .dataframe tbody tr th {\n",
       "        vertical-align: top;\n",
       "    }\n",
       "\n",
       "    .dataframe thead th {\n",
       "        text-align: right;\n",
       "    }\n",
       "</style>\n",
       "<table border=\"1\" class=\"dataframe\">\n",
       "  <thead>\n",
       "    <tr style=\"text-align: right;\">\n",
       "      <th></th>\n",
       "      <th>Open</th>\n",
       "      <th>High</th>\n",
       "      <th>Low</th>\n",
       "      <th>Close</th>\n",
       "      <th>Volume</th>\n",
       "      <th>Dividends</th>\n",
       "      <th>Stock Splits</th>\n",
       "    </tr>\n",
       "    <tr>\n",
       "      <th>Datetime</th>\n",
       "      <th></th>\n",
       "      <th></th>\n",
       "      <th></th>\n",
       "      <th></th>\n",
       "      <th></th>\n",
       "      <th></th>\n",
       "      <th></th>\n",
       "    </tr>\n",
       "  </thead>\n",
       "  <tbody>\n",
       "    <tr>\n",
       "      <th>2023-05-24 09:30:00-04:00</th>\n",
       "      <td>121.879997</td>\n",
       "      <td>121.959999</td>\n",
       "      <td>121.570000</td>\n",
       "      <td>121.809998</td>\n",
       "      <td>1126260</td>\n",
       "      <td>0.0</td>\n",
       "      <td>0.0</td>\n",
       "    </tr>\n",
       "    <tr>\n",
       "      <th>2023-05-24 09:31:00-04:00</th>\n",
       "      <td>121.830002</td>\n",
       "      <td>122.050003</td>\n",
       "      <td>121.809998</td>\n",
       "      <td>121.824997</td>\n",
       "      <td>131330</td>\n",
       "      <td>0.0</td>\n",
       "      <td>0.0</td>\n",
       "    </tr>\n",
       "    <tr>\n",
       "      <th>2023-05-24 09:32:00-04:00</th>\n",
       "      <td>121.830002</td>\n",
       "      <td>121.930000</td>\n",
       "      <td>121.739998</td>\n",
       "      <td>121.849998</td>\n",
       "      <td>116745</td>\n",
       "      <td>0.0</td>\n",
       "      <td>0.0</td>\n",
       "    </tr>\n",
       "    <tr>\n",
       "      <th>2023-05-24 09:33:00-04:00</th>\n",
       "      <td>121.864998</td>\n",
       "      <td>122.050003</td>\n",
       "      <td>121.760002</td>\n",
       "      <td>121.959999</td>\n",
       "      <td>184071</td>\n",
       "      <td>0.0</td>\n",
       "      <td>0.0</td>\n",
       "    </tr>\n",
       "    <tr>\n",
       "      <th>2023-05-24 09:34:00-04:00</th>\n",
       "      <td>121.959999</td>\n",
       "      <td>122.250000</td>\n",
       "      <td>121.839996</td>\n",
       "      <td>122.209999</td>\n",
       "      <td>107252</td>\n",
       "      <td>0.0</td>\n",
       "      <td>0.0</td>\n",
       "    </tr>\n",
       "  </tbody>\n",
       "</table>\n",
       "</div>"
      ],
      "text/plain": [
       "                                 Open        High         Low       Close  \\\n",
       "Datetime                                                                    \n",
       "2023-05-24 09:30:00-04:00  121.879997  121.959999  121.570000  121.809998   \n",
       "2023-05-24 09:31:00-04:00  121.830002  122.050003  121.809998  121.824997   \n",
       "2023-05-24 09:32:00-04:00  121.830002  121.930000  121.739998  121.849998   \n",
       "2023-05-24 09:33:00-04:00  121.864998  122.050003  121.760002  121.959999   \n",
       "2023-05-24 09:34:00-04:00  121.959999  122.250000  121.839996  122.209999   \n",
       "\n",
       "                            Volume  Dividends  Stock Splits  \n",
       "Datetime                                                     \n",
       "2023-05-24 09:30:00-04:00  1126260        0.0           0.0  \n",
       "2023-05-24 09:31:00-04:00   131330        0.0           0.0  \n",
       "2023-05-24 09:32:00-04:00   116745        0.0           0.0  \n",
       "2023-05-24 09:33:00-04:00   184071        0.0           0.0  \n",
       "2023-05-24 09:34:00-04:00   107252        0.0           0.0  "
      ]
     },
     "execution_count": 11,
     "metadata": {},
     "output_type": "execute_result"
    }
   ],
   "source": [
    "df = google.history(period='1d', interval=\"1m\")\n",
    "df.head()"
   ]
  },
  {
   "cell_type": "code",
   "execution_count": 12,
   "id": "a3580154",
   "metadata": {
    "id": "a3580154",
    "outputId": "e3f15fce-6261-4a4a-a05e-2f7116fa15af"
   },
   "outputs": [
    {
     "data": {
      "text/html": [
       "<div>\n",
       "<style scoped>\n",
       "    .dataframe tbody tr th:only-of-type {\n",
       "        vertical-align: middle;\n",
       "    }\n",
       "\n",
       "    .dataframe tbody tr th {\n",
       "        vertical-align: top;\n",
       "    }\n",
       "\n",
       "    .dataframe thead th {\n",
       "        text-align: right;\n",
       "    }\n",
       "</style>\n",
       "<table border=\"1\" class=\"dataframe\">\n",
       "  <thead>\n",
       "    <tr style=\"text-align: right;\">\n",
       "      <th></th>\n",
       "      <th>Low</th>\n",
       "    </tr>\n",
       "    <tr>\n",
       "      <th>Datetime</th>\n",
       "      <th></th>\n",
       "    </tr>\n",
       "  </thead>\n",
       "  <tbody>\n",
       "    <tr>\n",
       "      <th>2023-05-24 09:30:00-04:00</th>\n",
       "      <td>121.570000</td>\n",
       "    </tr>\n",
       "    <tr>\n",
       "      <th>2023-05-24 09:31:00-04:00</th>\n",
       "      <td>121.809998</td>\n",
       "    </tr>\n",
       "    <tr>\n",
       "      <th>2023-05-24 09:32:00-04:00</th>\n",
       "      <td>121.739998</td>\n",
       "    </tr>\n",
       "    <tr>\n",
       "      <th>2023-05-24 09:33:00-04:00</th>\n",
       "      <td>121.760002</td>\n",
       "    </tr>\n",
       "    <tr>\n",
       "      <th>2023-05-24 09:34:00-04:00</th>\n",
       "      <td>121.839996</td>\n",
       "    </tr>\n",
       "  </tbody>\n",
       "</table>\n",
       "</div>"
      ],
      "text/plain": [
       "                                  Low\n",
       "Datetime                             \n",
       "2023-05-24 09:30:00-04:00  121.570000\n",
       "2023-05-24 09:31:00-04:00  121.809998\n",
       "2023-05-24 09:32:00-04:00  121.739998\n",
       "2023-05-24 09:33:00-04:00  121.760002\n",
       "2023-05-24 09:34:00-04:00  121.839996"
      ]
     },
     "execution_count": 12,
     "metadata": {},
     "output_type": "execute_result"
    }
   ],
   "source": [
    "df = google.history(period='1d', interval=\"1m\")\n",
    "df = df[['Low']]\n",
    "df.head()"
   ]
  },
  {
   "cell_type": "code",
   "execution_count": 13,
   "id": "6b2facd6",
   "metadata": {
    "id": "6b2facd6",
    "outputId": "dad4f030-fbba-4e9b-eaff-c7c95a2f6968"
   },
   "outputs": [
    {
     "data": {
      "text/html": [
       "<div>\n",
       "<style scoped>\n",
       "    .dataframe tbody tr th:only-of-type {\n",
       "        vertical-align: middle;\n",
       "    }\n",
       "\n",
       "    .dataframe tbody tr th {\n",
       "        vertical-align: top;\n",
       "    }\n",
       "\n",
       "    .dataframe thead th {\n",
       "        text-align: right;\n",
       "    }\n",
       "</style>\n",
       "<table border=\"1\" class=\"dataframe\">\n",
       "  <thead>\n",
       "    <tr style=\"text-align: right;\">\n",
       "      <th></th>\n",
       "      <th>Low</th>\n",
       "    </tr>\n",
       "    <tr>\n",
       "      <th>date</th>\n",
       "      <th></th>\n",
       "    </tr>\n",
       "  </thead>\n",
       "  <tbody>\n",
       "    <tr>\n",
       "      <th>09:30:00</th>\n",
       "      <td>121.570000</td>\n",
       "    </tr>\n",
       "    <tr>\n",
       "      <th>09:31:00</th>\n",
       "      <td>121.809998</td>\n",
       "    </tr>\n",
       "    <tr>\n",
       "      <th>09:32:00</th>\n",
       "      <td>121.739998</td>\n",
       "    </tr>\n",
       "    <tr>\n",
       "      <th>09:33:00</th>\n",
       "      <td>121.760002</td>\n",
       "    </tr>\n",
       "    <tr>\n",
       "      <th>09:34:00</th>\n",
       "      <td>121.839996</td>\n",
       "    </tr>\n",
       "  </tbody>\n",
       "</table>\n",
       "</div>"
      ],
      "text/plain": [
       "                 Low\n",
       "date                \n",
       "09:30:00  121.570000\n",
       "09:31:00  121.809998\n",
       "09:32:00  121.739998\n",
       "09:33:00  121.760002\n",
       "09:34:00  121.839996"
      ]
     },
     "execution_count": 13,
     "metadata": {},
     "output_type": "execute_result"
    }
   ],
   "source": [
    "df['date'] = pd.to_datetime(df.index).time\n",
    "df.set_index('date', inplace=True)\n",
    "df.head()"
   ]
  },
  {
   "cell_type": "code",
   "execution_count": 14,
   "id": "285d600a",
   "metadata": {
    "id": "285d600a"
   },
   "outputs": [],
   "source": [
    "X = df.index.values\n",
    "y = df['Low'].values\n",
    "# The split point is the 10% of the dataframe length\n",
    "offset = int(0.10*len(df))\n",
    "X_train = X[:-offset]\n",
    "y_train = y[:-offset]\n",
    "X_test  = X[-offset:]\n",
    "y_test  = y[-offset:]"
   ]
  },
  {
   "cell_type": "code",
   "execution_count": 15,
   "id": "f1e32f90",
   "metadata": {
    "id": "f1e32f90",
    "outputId": "2074689e-17a4-41a4-bc89-299f3ffc9981"
   },
   "outputs": [
    {
     "data": {
      "image/png": "[encoded data removed]",
      "text/plain": [
       "<Figure size 432x288 with 1 Axes>"
      ]
     },
     "metadata": {
      "needs_background": "light"
     },
     "output_type": "display_data"
    }
   ],
   "source": [
    "plt.plot(range(0,len(y_train)),y_train, label='Train')\n",
    "plt.plot(range(len(y_train),len(y)),y_test,label='Test')\n",
    "plt.legend()\n",
    "plt.show()"
   ]
  },
  {
   "cell_type": "code",
   "execution_count": 16,
   "id": "eb9d5968",
   "metadata": {},
   "outputs": [],
   "source": [
    "from statsmodels.tsa.arima.model import ARIMA\n",
    "model = ARIMA(y_train, order=(5,0,1)).fit()\n",
    "forecast = model.forecast(steps=1)[0]"
   ]
  },
  {
   "cell_type": "code",
   "execution_count": 17,
   "id": "39b5c561",
   "metadata": {
    "id": "39b5c561",
    "outputId": "269b3feb-4b3e-4530-c508-7abc503309a0",
    "scrolled": true
   },
   "outputs": [
    {
     "name": "stdout",
     "output_type": "stream",
     "text": [
      "Real data for time 0: 121.5250015258789\n",
      "Real data for time 1: 121.64019775390625\n",
      "Pred data for time 1: 121.53588701535706\n"
     ]
    }
   ],
   "source": [
    "print(f'Real data for time 0: {y_train[len(y_train)-1]}')\n",
    "print(f'Real data for time 1: {y_test[0]}')\n",
    "print(f'Pred data for time 1: {forecast}')"
   ]
  },
  {
   "cell_type": "code",
   "execution_count": null,
   "id": "dc268a3e",
   "metadata": {},
   "outputs": [],
   "source": []
  }
 ],
 "metadata": {
  "colab": {
   "provenance": []
  },
  "kernelspec": {
   "display_name": "Python 3 (ipykernel)",
   "language": "python",
   "name": "python3"
  },
  "language_info": {
   "codemirror_mode": {
    "name": "ipython",
    "version": 3
   },
   "file_extension": ".py",
   "mimetype": "text/x-python",
   "name": "python",
   "nbconvert_exporter": "python",
   "pygments_lexer": "ipython3",
   "version": "3.10.5"
  }
 },
 "nbformat": 4,
 "nbformat_minor": 5
}
