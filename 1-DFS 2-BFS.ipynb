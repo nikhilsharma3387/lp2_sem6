{
 "cells": [
  {
   "cell_type": "code",
   "execution_count": 5,
   "id": "01803fc7",
   "metadata": {},
   "outputs": [
    {
     "name": "stdout",
     "output_type": "stream",
     "text": [
      "Enter the number of vertices: 5\n",
      "Enter a vertex: A\n",
      "Enter its neighbors (separated by spaces): B C\n",
      "Enter a vertex: B\n",
      "Enter its neighbors (separated by spaces): A C D\n",
      "Enter a vertex: C\n",
      "Enter its neighbors (separated by spaces): A B D E\n",
      "Enter a vertex: D\n",
      "Enter its neighbors (separated by spaces): B C E\n",
      "Enter a vertex: E\n",
      "Enter its neighbors (separated by spaces): C D\n",
      "Enter the starting vertex: A\n",
      "DFS traversal:\n",
      "A\n",
      "B\n",
      "D\n",
      "E\n",
      "C\n",
      "BFS traversal:\n",
      "A\n",
      "C\n",
      "B\n",
      "D\n",
      "E\n"
     ]
    }
   ],
   "source": [
    "from collections import defaultdict\n",
    "\n",
    "# DFS implementation\n",
    "def dfs(graph, start):\n",
    "    visited = set()\n",
    "    stack = [start]\n",
    "    \n",
    "    while stack:\n",
    "        vertex = stack.pop()\n",
    "        if vertex not in visited:\n",
    "            print(vertex)  # or do whatever you want with the vertex\n",
    "            visited.add(vertex)\n",
    "            stack.extend(graph[vertex] - visited)\n",
    "\n",
    "# BFS implementation\n",
    "def bfs(graph, start):\n",
    "    visited = set()\n",
    "    queue = [start]\n",
    "    \n",
    "    while queue:\n",
    "        vertex = queue.pop(0)\n",
    "        if vertex not in visited:\n",
    "            print(vertex)  # or do whatever you want with the vertex\n",
    "            visited.add(vertex)\n",
    "            queue.extend(graph[vertex] - visited)\n",
    "\n",
    "# Taking dynamic input for the graph\n",
    "graph = defaultdict(set)\n",
    "\n",
    "num_vertices = int(input(\"Enter the number of vertices: \"))\n",
    "\n",
    "for _ in range(num_vertices):\n",
    "    vertex = input(\"Enter a vertex: \")\n",
    "    neighbors = input(\"Enter its neighbors (separated by spaces): \").split()\n",
    "    graph[vertex].update(neighbors)\n",
    "\n",
    "start_vertex = input(\"Enter the starting vertex: \")\n",
    "\n",
    "# Perform DFS and BFS\n",
    "print(\"DFS traversal:\")\n",
    "dfs(graph, start_vertex)\n",
    "\n",
    "print(\"BFS traversal:\")\n",
    "bfs(graph, start_vertex)\n"
   ]
  },
  {
   "cell_type": "code",
   "execution_count": null,
   "id": "be1959cf",
   "metadata": {},
   "outputs": [],
   "source": []
  }
 ],
 "metadata": {
  "kernelspec": {
   "display_name": "Python 3 (ipykernel)",
   "language": "python",
   "name": "python3"
  },
  "language_info": {
   "codemirror_mode": {
    "name": "ipython",
    "version": 3
   },
   "file_extension": ".py",
   "mimetype": "text/x-python",
   "name": "python",
   "nbconvert_exporter": "python",
   "pygments_lexer": "ipython3",
   "version": "3.10.5"
  }
 },
 "nbformat": 4,
 "nbformat_minor": 5
}
