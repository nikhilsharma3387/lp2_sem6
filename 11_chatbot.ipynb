{
 "cells": [
  {
   "cell_type": "code",
   "execution_count": 7,
   "id": "791939c9",
   "metadata": {},
   "outputs": [
    {
     "name": "stdout",
     "output_type": "stream",
     "text": [
      "Chatbot: Welcome to our restaurant! How can I assist you today?\n",
      "User: information about restaurant\n",
      "Chatbot: Our restaurant offers a diverse menu of delicious dishes. We have a cozy ambiance and excellent customer service.\n",
      "User: bye\n",
      "Chatbot: We hope to see you soon. Goodbye!\n",
      "Chatbot: We hope to see you soon. Goodbye!\n"
     ]
    }
   ],
   "source": [
    "import random\n",
    "\n",
    "# Define a list of sample responses\n",
    "greetings = [\"Hello! Welcome to our restaurant.\", \"Hi there! How can I assist you?\"]\n",
    "farewells = [\"Thank you for considering our restaurant. Have a great day!\", \"We hope to see you soon. Goodbye!\"]\n",
    "reservation_confirmations = [\"Your reservation has been confirmed. We look forward to seeing you!\", \"Great! Your reservation is confirmed.\"]\n",
    "reservation_slots = [\"6:00 PM\", \"7:00 PM\", \"8:00 PM\", \"9:00 PM\"]\n",
    "reservation_details = {\n",
    "    \"name\": \"\",\n",
    "    \"date\": \"\",\n",
    "    \"time\": \"\",\n",
    "    \"guests\": \"\"\n",
    "}\n",
    "\n",
    "# Function to handle user queries\n",
    "def handle_query(query):\n",
    "    query = query.lower()\n",
    "\n",
    "    if any(word in query for word in [\"hello\", \"hi\"]):\n",
    "        return random.choice(greetings)\n",
    "    elif any(word in query for word in [\"bye\", \"goodbye\"]):\n",
    "        return random.choice(farewells)\n",
    "    elif \"reservation\" in query:\n",
    "        return make_reservation(query)\n",
    "    elif \"restaurant\" in query or \"information\" in query:\n",
    "        return \"Our restaurant offers a diverse menu of delicious dishes. We have a cozy ambiance and excellent customer service.\"\n",
    "    else:\n",
    "        return \"I'm sorry, I couldn't understand your query. How can I assist you?\"\n",
    "\n",
    "# Function to handle reservation requests\n",
    "def make_reservation(query):\n",
    "    if \"book\" in query or \"reserve\" in query:\n",
    "        reservation_details[\"name\"] = input(\"May I have your name? \")\n",
    "        reservation_details[\"date\"] = input(\"What date would you like to make a reservation? \")\n",
    "        reservation_details[\"time\"] = input(\"What time would you prefer? We have available slots at 6:00 PM, 7:00 PM, 8:00 PM, and 9:00 PM. \")\n",
    "        reservation_details[\"guests\"] = input(\"How many guests will be joining? \")\n",
    "        return random.choice(reservation_confirmations)\n",
    "    else:\n",
    "        return \"Sure! You can make a reservation by letting me know your preferred date, time, and the number of guests.\"\n",
    "\n",
    "# Main interaction loop\n",
    "print(\"Chatbot: Welcome to our restaurant! How can I assist you today?\")\n",
    "\n",
    "while True:\n",
    "    user_input = input(\"User: \")\n",
    "\n",
    "    response = handle_query(user_input)\n",
    "    print(\"Chatbot:\", response)\n",
    "\n",
    "    if any(word in user_input.lower() for word in [\"bye\", \"goodbye\"]):\n",
    "        print(\"Chatbot:\", random.choice(farewells))\n",
    "        break\n"
   ]
  },
  {
   "cell_type": "code",
   "execution_count": null,
   "id": "180d4f62",
   "metadata": {},
   "outputs": [],
   "source": []
  }
 ],
 "metadata": {
  "kernelspec": {
   "display_name": "Python 3 (ipykernel)",
   "language": "python",
   "name": "python3"
  },
  "language_info": {
   "codemirror_mode": {
    "name": "ipython",
    "version": 3
   },
   "file_extension": ".py",
   "mimetype": "text/x-python",
   "name": "python",
   "nbconvert_exporter": "python",
   "pygments_lexer": "ipython3",
   "version": "3.10.5"
  }
 },
 "nbformat": 4,
 "nbformat_minor": 5
}
